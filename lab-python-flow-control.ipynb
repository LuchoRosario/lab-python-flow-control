{
 "cells": [
  {
   "cell_type": "markdown",
   "id": "d3bfc191-8885-42ee-b0a0-bbab867c6f9f",
   "metadata": {
    "tags": []
   },
   "source": [
    "# Lab | Flow Control"
   ]
  },
  {
   "cell_type": "markdown",
   "id": "3851fcd1-cf98-4653-9c89-e003b7ec9400",
   "metadata": {},
   "source": [
    "## Exercise: Managing Customer Orders Optimized\n",
    "\n",
    "In the last lab, you were starting an online store that sells various products. To ensure smooth operations, you developed a program that manages customer orders and inventory.\n",
    "\n",
    "You did so without using flow control. Let's go a step further and improve this code.\n",
    "\n",
    "Follow the steps below to complete the exercise:\n",
    "\n",
    "1. Look at your code from the lab data structures, and improve repeated code with loops.\n",
    "\n",
    "2. Instead of asking the user to input the name of three products that a customer wants to order, do the following:\n",
    "    \n",
    "    a. Prompt the user to enter the name of a product that a customer wants to order.\n",
    "    \n",
    "    b. Add the product name to the \"customer_orders\" set.\n",
    "    \n",
    "    c. Ask the user if they want to add another product (yes/no).\n",
    "    \n",
    "    d. Continue the loop until the user does not want to add another product.\n",
    "\n",
    "3. Instead of updating the inventory by subtracting 1 from the quantity of each product, only do it for  the products that were ordered (those in \"customer_orders\")."
   ]
  },
  {
   "cell_type": "code",
   "execution_count": 3,
   "id": "017bf823",
   "metadata": {},
   "outputs": [],
   "source": [
    "#n1 list\n",
    "products= [\"t-shirt\",\"mug\",\"hat\",\"book\",\"keychain\"]\n"
   ]
  },
  {
   "cell_type": "code",
   "execution_count": 8,
   "id": "94fb87f2",
   "metadata": {},
   "outputs": [],
   "source": [
    "#n2 empty dictionary\n",
    "inventory= {} "
   ]
  },
  {
   "cell_type": "code",
   "execution_count": 10,
   "id": "04a275ad",
   "metadata": {},
   "outputs": [
    {
     "name": "stdout",
     "output_type": "stream",
     "text": [
      "{'t-shirt': 7, 'mug': 9, 'hat': 8, 'book': 6, 'keychain': 7}\n"
     ]
    }
   ],
   "source": [
    "#3 fill inventory\n",
    "for product in products:\n",
    "     inventory[product]= int(input(f'number of {product}s:'))\n",
    "print (inventory)\n"
   ]
  },
  {
   "cell_type": "code",
   "execution_count": 11,
   "id": "b35aaf87",
   "metadata": {},
   "outputs": [],
   "source": [
    "#4 empty set\n",
    "customers_orders= set ()"
   ]
  },
  {
   "cell_type": "code",
   "execution_count": null,
   "id": "1aa6061b",
   "metadata": {},
   "outputs": [],
   "source": [
    "#5 \n",
    "while True:\n",
    "    product= input(\"nombre del producto a ordenar: \")\n",
    "    customers_orders.add(product)\n",
    "    otro_producto= input(\"desea agregar otro producto? (yes/no): \")\n",
    "    if otro_producto != \"yes\":break \n",
    "        \n"
   ]
  },
  {
   "cell_type": "code",
   "execution_count": 15,
   "id": "54142974",
   "metadata": {},
   "outputs": [
    {
     "name": "stdout",
     "output_type": "stream",
     "text": [
      "{'hat'}\n"
     ]
    }
   ],
   "source": [
    "print (customers_orders)"
   ]
  },
  {
   "cell_type": "code",
   "execution_count": 18,
   "metadata": {},
   "outputs": [],
   "source": [
    "for i in customers_orders:\n",
    "   if i in products:\n",
    "      inventory[i]-=1\n",
    "    "
   ]
  }
 ],
 "metadata": {
  "kernelspec": {
   "display_name": "base",
   "language": "python",
   "name": "python3"
  },
  "language_info": {
   "codemirror_mode": {
    "name": "ipython",
    "version": 3
   },
   "file_extension": ".py",
   "mimetype": "text/x-python",
   "name": "python",
   "nbconvert_exporter": "python",
   "pygments_lexer": "ipython3",
   "version": "3.12.7"
  }
 },
 "nbformat": 4,
 "nbformat_minor": 5
}
